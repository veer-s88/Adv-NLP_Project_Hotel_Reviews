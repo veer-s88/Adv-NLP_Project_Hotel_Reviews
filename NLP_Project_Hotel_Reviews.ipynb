{
 "cells": [
  {
   "cell_type": "markdown",
   "metadata": {},
   "source": [
    "# Natural Language Processing - Hotel TripAdvisor Reviews"
   ]
  },
  {
   "cell_type": "markdown",
   "metadata": {},
   "source": [
    " In this project, I am going to use various machine learning models to predict whether TripAdvisor reviews are positive or negative. I will use a Random Forest Classifier, Gradient Boosting Classifier and a Recurrent Neural Network model to assess which model best predicts whether TripAdvisor reviews are positive or negative.\n",
    "\n",
    "The dataset was downloaded from Kaggle: https://www.kaggle.com/andrewmvd/trip-advisor-hotel-reviews"
   ]
  },
  {
   "cell_type": "code",
   "execution_count": 1,
   "metadata": {},
   "outputs": [
    {
     "name": "stderr",
     "output_type": "stream",
     "text": [
      "<frozen importlib._bootstrap>:219: RuntimeWarning: numpy.ufunc size changed, may indicate binary incompatibility. Expected 192 from C header, got 216 from PyObject\n"
     ]
    }
   ],
   "source": [
    "# Import statements\n",
    "\n",
    "import numpy as np\n",
    "import pandas as pd\n",
    "import matplotlib.pyplot as plt\n",
    "import seaborn as sns\n",
    "\n",
    "import nltk\n",
    "import re\n",
    "import string\n",
    "\n",
    "%matplotlib inline\n",
    "pd.set_option('display.max_colwidth', 150)"
   ]
  },
  {
   "cell_type": "markdown",
   "metadata": {},
   "source": [
    "## Exploratory Data Analysis"
   ]
  },
  {
   "cell_type": "markdown",
   "metadata": {},
   "source": [
    "We must read in and perform breif exploratory data analysis on our data to better understand it"
   ]
  },
  {
   "cell_type": "code",
   "execution_count": 2,
   "metadata": {},
   "outputs": [
    {
     "data": {
      "text/html": [
       "<div>\n",
       "<style scoped>\n",
       "    .dataframe tbody tr th:only-of-type {\n",
       "        vertical-align: middle;\n",
       "    }\n",
       "\n",
       "    .dataframe tbody tr th {\n",
       "        vertical-align: top;\n",
       "    }\n",
       "\n",
       "    .dataframe thead th {\n",
       "        text-align: right;\n",
       "    }\n",
       "</style>\n",
       "<table border=\"1\" class=\"dataframe\">\n",
       "  <thead>\n",
       "    <tr style=\"text-align: right;\">\n",
       "      <th></th>\n",
       "      <th>Review</th>\n",
       "      <th>Rating</th>\n",
       "    </tr>\n",
       "  </thead>\n",
       "  <tbody>\n",
       "    <tr>\n",
       "      <th>0</th>\n",
       "      <td>nice hotel expensive parking got good deal stay hotel anniversary, arrived late evening took advice previous reviews did valet parking, check quic...</td>\n",
       "      <td>4</td>\n",
       "    </tr>\n",
       "    <tr>\n",
       "      <th>1</th>\n",
       "      <td>ok nothing special charge diamond member hilton decided chain shot 20th anniversary seattle, start booked suite paid extra website description not...</td>\n",
       "      <td>2</td>\n",
       "    </tr>\n",
       "    <tr>\n",
       "      <th>2</th>\n",
       "      <td>nice rooms not 4* experience hotel monaco seattle good hotel n't 4* level.positives large bathroom mediterranean suite comfortable bed pillowsatte...</td>\n",
       "      <td>3</td>\n",
       "    </tr>\n",
       "    <tr>\n",
       "      <th>3</th>\n",
       "      <td>unique, great stay, wonderful time hotel monaco, location excellent short stroll main downtown shopping area, pet friendly room showed no signs an...</td>\n",
       "      <td>5</td>\n",
       "    </tr>\n",
       "    <tr>\n",
       "      <th>4</th>\n",
       "      <td>great stay great stay, went seahawk game awesome, downfall view building did n't complain, room huge staff helpful, booked hotels website seahawk ...</td>\n",
       "      <td>5</td>\n",
       "    </tr>\n",
       "  </tbody>\n",
       "</table>\n",
       "</div>"
      ],
      "text/plain": [
       "                                                                                                                                                  Review  \\\n",
       "0  nice hotel expensive parking got good deal stay hotel anniversary, arrived late evening took advice previous reviews did valet parking, check quic...   \n",
       "1  ok nothing special charge diamond member hilton decided chain shot 20th anniversary seattle, start booked suite paid extra website description not...   \n",
       "2  nice rooms not 4* experience hotel monaco seattle good hotel n't 4* level.positives large bathroom mediterranean suite comfortable bed pillowsatte...   \n",
       "3  unique, great stay, wonderful time hotel monaco, location excellent short stroll main downtown shopping area, pet friendly room showed no signs an...   \n",
       "4  great stay great stay, went seahawk game awesome, downfall view building did n't complain, room huge staff helpful, booked hotels website seahawk ...   \n",
       "\n",
       "   Rating  \n",
       "0       4  \n",
       "1       2  \n",
       "2       3  \n",
       "3       5  \n",
       "4       5  "
      ]
     },
     "execution_count": 2,
     "metadata": {},
     "output_type": "execute_result"
    }
   ],
   "source": [
    "# Read in our data\n",
    "df = pd.read_csv('tripadvisor_hotel_reviews.csv')\n",
    "df.head()"
   ]
  },
  {
   "cell_type": "code",
   "execution_count": 3,
   "metadata": {},
   "outputs": [
    {
     "data": {
      "text/plain": [
       "(20491, 2)"
      ]
     },
     "execution_count": 3,
     "metadata": {},
     "output_type": "execute_result"
    }
   ],
   "source": [
    "# Check the shape and size of our data set\n",
    "df.shape"
   ]
  },
  {
   "cell_type": "code",
   "execution_count": 4,
   "metadata": {},
   "outputs": [
    {
     "data": {
      "text/plain": [
       "Review    0\n",
       "Rating    0\n",
       "dtype: int64"
      ]
     },
     "execution_count": 4,
     "metadata": {},
     "output_type": "execute_result"
    }
   ],
   "source": [
    "# Check for null values\n",
    "df.isnull().sum()"
   ]
  },
  {
   "cell_type": "code",
   "execution_count": 5,
   "metadata": {},
   "outputs": [
    {
     "data": {
      "text/plain": [
       "5    9054\n",
       "4    6039\n",
       "3    2184\n",
       "2    1793\n",
       "1    1421\n",
       "Name: Rating, dtype: int64"
      ]
     },
     "execution_count": 5,
     "metadata": {},
     "output_type": "execute_result"
    }
   ],
   "source": [
    "# Check how many reviews there are of each rating\n",
    "df['Rating'].value_counts()"
   ]
  },
  {
   "cell_type": "code",
   "execution_count": 6,
   "metadata": {},
   "outputs": [
    {
     "data": {
      "text/plain": [
       "<AxesSubplot:xlabel='Rating', ylabel='count'>"
      ]
     },
     "execution_count": 6,
     "metadata": {},
     "output_type": "execute_result"
    },
    {
     "data": {
      "image/png": "[encoded data removed]",
      "text/plain": [
       "<Figure size 432x288 with 1 Axes>"
      ]
     },
     "metadata": {
      "needs_background": "light"
     },
     "output_type": "display_data"
    }
   ],
   "source": [
    "# Produce a countplot of the distribution of ratings for each review\n",
    "sns.countplot(data=df, x='Rating')"
   ]
  },
  {
   "cell_type": "code",
   "execution_count": 7,
   "metadata": {},
   "outputs": [
    {
     "data": {
      "text/html": [
       "<div>\n",
       "<style scoped>\n",
       "    .dataframe tbody tr th:only-of-type {\n",
       "        vertical-align: middle;\n",
       "    }\n",
       "\n",
       "    .dataframe tbody tr th {\n",
       "        vertical-align: top;\n",
       "    }\n",
       "\n",
       "    .dataframe thead th {\n",
       "        text-align: right;\n",
       "    }\n",
       "</style>\n",
       "<table border=\"1\" class=\"dataframe\">\n",
       "  <thead>\n",
       "    <tr style=\"text-align: right;\">\n",
       "      <th></th>\n",
       "      <th>Review</th>\n",
       "      <th>Rating</th>\n",
       "      <th>positive_rating</th>\n",
       "    </tr>\n",
       "  </thead>\n",
       "  <tbody>\n",
       "    <tr>\n",
       "      <th>0</th>\n",
       "      <td>nice hotel expensive parking got good deal stay hotel anniversary, arrived late evening took advice previous reviews did valet parking, check quic...</td>\n",
       "      <td>4</td>\n",
       "      <td>1</td>\n",
       "    </tr>\n",
       "    <tr>\n",
       "      <th>1</th>\n",
       "      <td>ok nothing special charge diamond member hilton decided chain shot 20th anniversary seattle, start booked suite paid extra website description not...</td>\n",
       "      <td>2</td>\n",
       "      <td>0</td>\n",
       "    </tr>\n",
       "    <tr>\n",
       "      <th>2</th>\n",
       "      <td>nice rooms not 4* experience hotel monaco seattle good hotel n't 4* level.positives large bathroom mediterranean suite comfortable bed pillowsatte...</td>\n",
       "      <td>3</td>\n",
       "      <td>0</td>\n",
       "    </tr>\n",
       "    <tr>\n",
       "      <th>3</th>\n",
       "      <td>unique, great stay, wonderful time hotel monaco, location excellent short stroll main downtown shopping area, pet friendly room showed no signs an...</td>\n",
       "      <td>5</td>\n",
       "      <td>1</td>\n",
       "    </tr>\n",
       "    <tr>\n",
       "      <th>4</th>\n",
       "      <td>great stay great stay, went seahawk game awesome, downfall view building did n't complain, room huge staff helpful, booked hotels website seahawk ...</td>\n",
       "      <td>5</td>\n",
       "      <td>1</td>\n",
       "    </tr>\n",
       "  </tbody>\n",
       "</table>\n",
       "</div>"
      ],
      "text/plain": [
       "                                                                                                                                                  Review  \\\n",
       "0  nice hotel expensive parking got good deal stay hotel anniversary, arrived late evening took advice previous reviews did valet parking, check quic...   \n",
       "1  ok nothing special charge diamond member hilton decided chain shot 20th anniversary seattle, start booked suite paid extra website description not...   \n",
       "2  nice rooms not 4* experience hotel monaco seattle good hotel n't 4* level.positives large bathroom mediterranean suite comfortable bed pillowsatte...   \n",
       "3  unique, great stay, wonderful time hotel monaco, location excellent short stroll main downtown shopping area, pet friendly room showed no signs an...   \n",
       "4  great stay great stay, went seahawk game awesome, downfall view building did n't complain, room huge staff helpful, booked hotels website seahawk ...   \n",
       "\n",
       "   Rating  positive_rating  \n",
       "0       4                1  \n",
       "1       2                0  \n",
       "2       3                0  \n",
       "3       5                1  \n",
       "4       5                1  "
      ]
     },
     "execution_count": 7,
     "metadata": {},
     "output_type": "execute_result"
    }
   ],
   "source": [
    "# Split the positive ratings as rating above 3 and negative ratings as 3 and below\n",
    "def positive_rating(rating):\n",
    "    if int(rating) > 3:\n",
    "        return 1\n",
    "    else:\n",
    "        return 0\n",
    "\n",
    "df['positive_rating'] = df['Rating'].apply(lambda x: positive_rating(x))\n",
    "df.head()"
   ]
  },
  {
   "cell_type": "code",
   "execution_count": 10,
   "metadata": {},
   "outputs": [
    {
     "data": {
      "text/plain": [
       "<AxesSubplot:title={'center':'Distribution of Positive Ratings'}, xlabel='positive_rating', ylabel='count'>"
      ]
     },
     "execution_count": 10,
     "metadata": {},
     "output_type": "execute_result"
    },
    {
     "data": {
      "image/png": "[encoded data removed]",
      "text/plain": [
       "<Figure size 432x288 with 1 Axes>"
      ]
     },
     "metadata": {
      "needs_background": "light"
     },
     "output_type": "display_data"
    }
   ],
   "source": [
    "# Produce countplot to view distribution of positive ratings\n",
    "plt.title('Distribution of Positive Ratings')\n",
    "sns.countplot(data=df, x='positive_rating')"
   ]
  },
  {
   "cell_type": "markdown",
   "metadata": {},
   "source": [
    "## Feature Engineering"
   ]
  },
  {
   "cell_type": "markdown",
   "metadata": {},
   "source": [
    "The point of feature engineering is to create new features from the already exisiting data. We can create some features and check by viewing the distribution whether these features may be valuable at prediciting positive or negative hotel reviews"
   ]
  },
  {
   "cell_type": "markdown",
   "metadata": {},
   "source": [
    "### Punctuation Percentage"
   ]
  },
  {
   "cell_type": "code",
   "execution_count": 12,
   "metadata": {},
   "outputs": [
    {
     "name": "stdout",
     "output_type": "stream",
     "text": [
      "nice hotel expensive parking got good deal stay hotel anniversary, arrived late evening took advice previous reviews did valet parking, check quick easy, little disappointed non-existent view room room clean nice size, bed comfortable woke stiff neck high pillows, not soundproof like heard music room night morning loud bangs doors opening closing hear people talking hallway, maybe just noisy neighbors, aveda bath products nice, did not goldfish stay nice touch taken advantage staying longer, location great walking distance shopping, overall nice experience having pay 40 parking night,  \n",
      "\n",
      " 0.023762376237623763\n"
     ]
    }
   ],
   "source": [
    "# This function returns the ratio of punctuation in the text compared to other characters\n",
    "def punct_perc(text):\n",
    "    punct_num = sum([1 for char in text if char in string.punctuation])\n",
    "    punct_per = punct_num / (len(text) - text.count(\" \"))\n",
    "    return punct_per\n",
    "\n",
    "# Test this function of the first row\n",
    "print(df['Review'].iloc[0])\n",
    "print('\\n {}'.format(punct_perc(df['Review'].iloc[0])))"
   ]
  },
  {
   "cell_type": "code",
   "execution_count": 13,
   "metadata": {},
   "outputs": [
    {
     "data": {
      "text/html": [
       "<div>\n",
       "<style scoped>\n",
       "    .dataframe tbody tr th:only-of-type {\n",
       "        vertical-align: middle;\n",
       "    }\n",
       "\n",
       "    .dataframe tbody tr th {\n",
       "        vertical-align: top;\n",
       "    }\n",
       "\n",
       "    .dataframe thead th {\n",
       "        text-align: right;\n",
       "    }\n",
       "</style>\n",
       "<table border=\"1\" class=\"dataframe\">\n",
       "  <thead>\n",
       "    <tr style=\"text-align: right;\">\n",
       "      <th></th>\n",
       "      <th>Review</th>\n",
       "      <th>Rating</th>\n",
       "      <th>positive_rating</th>\n",
       "      <th>punct%</th>\n",
       "    </tr>\n",
       "  </thead>\n",
       "  <tbody>\n",
       "    <tr>\n",
       "      <th>0</th>\n",
       "      <td>nice hotel expensive parking got good deal stay hotel anniversary, arrived late evening took advice previous reviews did valet parking, check quic...</td>\n",
       "      <td>4</td>\n",
       "      <td>1</td>\n",
       "      <td>0.023762</td>\n",
       "    </tr>\n",
       "    <tr>\n",
       "      <th>1</th>\n",
       "      <td>ok nothing special charge diamond member hilton decided chain shot 20th anniversary seattle, start booked suite paid extra website description not...</td>\n",
       "      <td>2</td>\n",
       "      <td>0</td>\n",
       "      <td>0.018081</td>\n",
       "    </tr>\n",
       "    <tr>\n",
       "      <th>2</th>\n",
       "      <td>nice rooms not 4* experience hotel monaco seattle good hotel n't 4* level.positives large bathroom mediterranean suite comfortable bed pillowsatte...</td>\n",
       "      <td>3</td>\n",
       "      <td>0</td>\n",
       "      <td>0.026468</td>\n",
       "    </tr>\n",
       "    <tr>\n",
       "      <th>3</th>\n",
       "      <td>unique, great stay, wonderful time hotel monaco, location excellent short stroll main downtown shopping area, pet friendly room showed no signs an...</td>\n",
       "      <td>5</td>\n",
       "      <td>1</td>\n",
       "      <td>0.031373</td>\n",
       "    </tr>\n",
       "    <tr>\n",
       "      <th>4</th>\n",
       "      <td>great stay great stay, went seahawk game awesome, downfall view building did n't complain, room huge staff helpful, booked hotels website seahawk ...</td>\n",
       "      <td>5</td>\n",
       "      <td>1</td>\n",
       "      <td>0.036731</td>\n",
       "    </tr>\n",
       "  </tbody>\n",
       "</table>\n",
       "</div>"
      ],
      "text/plain": [
       "                                                                                                                                                  Review  \\\n",
       "0  nice hotel expensive parking got good deal stay hotel anniversary, arrived late evening took advice previous reviews did valet parking, check quic...   \n",
       "1  ok nothing special charge diamond member hilton decided chain shot 20th anniversary seattle, start booked suite paid extra website description not...   \n",
       "2  nice rooms not 4* experience hotel monaco seattle good hotel n't 4* level.positives large bathroom mediterranean suite comfortable bed pillowsatte...   \n",
       "3  unique, great stay, wonderful time hotel monaco, location excellent short stroll main downtown shopping area, pet friendly room showed no signs an...   \n",
       "4  great stay great stay, went seahawk game awesome, downfall view building did n't complain, room huge staff helpful, booked hotels website seahawk ...   \n",
       "\n",
       "   Rating  positive_rating    punct%  \n",
       "0       4                1  0.023762  \n",
       "1       2                0  0.018081  \n",
       "2       3                0  0.026468  \n",
       "3       5                1  0.031373  \n",
       "4       5                1  0.036731  "
      ]
     },
     "execution_count": 13,
     "metadata": {},
     "output_type": "execute_result"
    }
   ],
   "source": [
    "# Apply the punct_perc function on all reviews in the data set\n",
    "df['punct%'] = df['Review'].apply(lambda x: punct_perc(x))\n",
    "df.head()"
   ]
  },
  {
   "cell_type": "markdown",
   "metadata": {},
   "source": [
    "### Number Percentage"
   ]
  },
  {
   "cell_type": "code",
   "execution_count": 14,
   "metadata": {},
   "outputs": [
    {
     "name": "stdout",
     "output_type": "stream",
     "text": [
      "nice hotel expensive parking got good deal stay hotel anniversary, arrived late evening took advice previous reviews did valet parking, check quick easy, little disappointed non-existent view room room clean nice size, bed comfortable woke stiff neck high pillows, not soundproof like heard music room night morning loud bangs doors opening closing hear people talking hallway, maybe just noisy neighbors, aveda bath products nice, did not goldfish stay nice touch taken advantage staying longer, location great walking distance shopping, overall nice experience having pay 40 parking night,  \n",
      "\n",
      " 0.0039603960396039604\n"
     ]
    }
   ],
   "source": [
    "# This function returns the ratio of digits compared to other characters\n",
    "number_list = ['0', '1', '2', '3', '4', '5', '6', '7', '8', '9']\n",
    "\n",
    "def number_perc(text):\n",
    "    number_count = sum([1 for char in text if char in number_list])\n",
    "    number_per = number_count / (len(text) - text.count(\" \"))\n",
    "    return number_per\n",
    "\n",
    "# Test this function on the first row\n",
    "print(df['Review'].iloc[0])\n",
    "print('\\n {}'.format(number_perc(df['Review'].iloc[0])))"
   ]
  },
  {
   "cell_type": "code",
   "execution_count": 15,
   "metadata": {},
   "outputs": [
    {
     "data": {
      "text/html": [
       "<div>\n",
       "<style scoped>\n",
       "    .dataframe tbody tr th:only-of-type {\n",
       "        vertical-align: middle;\n",
       "    }\n",
       "\n",
       "    .dataframe tbody tr th {\n",
       "        vertical-align: top;\n",
       "    }\n",
       "\n",
       "    .dataframe thead th {\n",
       "        text-align: right;\n",
       "    }\n",
       "</style>\n",
       "<table border=\"1\" class=\"dataframe\">\n",
       "  <thead>\n",
       "    <tr style=\"text-align: right;\">\n",
       "      <th></th>\n",
       "      <th>Review</th>\n",
       "      <th>Rating</th>\n",
       "      <th>positive_rating</th>\n",
       "      <th>punct%</th>\n",
       "      <th>number%</th>\n",
       "    </tr>\n",
       "  </thead>\n",
       "  <tbody>\n",
       "    <tr>\n",
       "      <th>0</th>\n",
       "      <td>nice hotel expensive parking got good deal stay hotel anniversary, arrived late evening took advice previous reviews did valet parking, check quic...</td>\n",
       "      <td>4</td>\n",
       "      <td>1</td>\n",
       "      <td>0.023762</td>\n",
       "      <td>0.003960</td>\n",
       "    </tr>\n",
       "    <tr>\n",
       "      <th>1</th>\n",
       "      <td>ok nothing special charge diamond member hilton decided chain shot 20th anniversary seattle, start booked suite paid extra website description not...</td>\n",
       "      <td>2</td>\n",
       "      <td>0</td>\n",
       "      <td>0.018081</td>\n",
       "      <td>0.009040</td>\n",
       "    </tr>\n",
       "    <tr>\n",
       "      <th>2</th>\n",
       "      <td>nice rooms not 4* experience hotel monaco seattle good hotel n't 4* level.positives large bathroom mediterranean suite comfortable bed pillowsatte...</td>\n",
       "      <td>3</td>\n",
       "      <td>0</td>\n",
       "      <td>0.026468</td>\n",
       "      <td>0.019851</td>\n",
       "    </tr>\n",
       "    <tr>\n",
       "      <th>3</th>\n",
       "      <td>unique, great stay, wonderful time hotel monaco, location excellent short stroll main downtown shopping area, pet friendly room showed no signs an...</td>\n",
       "      <td>5</td>\n",
       "      <td>1</td>\n",
       "      <td>0.031373</td>\n",
       "      <td>0.001961</td>\n",
       "    </tr>\n",
       "    <tr>\n",
       "      <th>4</th>\n",
       "      <td>great stay great stay, went seahawk game awesome, downfall view building did n't complain, room huge staff helpful, booked hotels website seahawk ...</td>\n",
       "      <td>5</td>\n",
       "      <td>1</td>\n",
       "      <td>0.036731</td>\n",
       "      <td>0.001837</td>\n",
       "    </tr>\n",
       "  </tbody>\n",
       "</table>\n",
       "</div>"
      ],
      "text/plain": [
       "                                                                                                                                                  Review  \\\n",
       "0  nice hotel expensive parking got good deal stay hotel anniversary, arrived late evening took advice previous reviews did valet parking, check quic...   \n",
       "1  ok nothing special charge diamond member hilton decided chain shot 20th anniversary seattle, start booked suite paid extra website description not...   \n",
       "2  nice rooms not 4* experience hotel monaco seattle good hotel n't 4* level.positives large bathroom mediterranean suite comfortable bed pillowsatte...   \n",
       "3  unique, great stay, wonderful time hotel monaco, location excellent short stroll main downtown shopping area, pet friendly room showed no signs an...   \n",
       "4  great stay great stay, went seahawk game awesome, downfall view building did n't complain, room huge staff helpful, booked hotels website seahawk ...   \n",
       "\n",
       "   Rating  positive_rating    punct%   number%  \n",
       "0       4                1  0.023762  0.003960  \n",
       "1       2                0  0.018081  0.009040  \n",
       "2       3                0  0.026468  0.019851  \n",
       "3       5                1  0.031373  0.001961  \n",
       "4       5                1  0.036731  0.001837  "
      ]
     },
     "execution_count": 15,
     "metadata": {},
     "output_type": "execute_result"
    }
   ],
   "source": [
    "# Apply the number_perc function on all reviews in the data set\n",
    "df['number%'] = df['Review'].apply(lambda x: number_perc(x))\n",
    "df.head()"
   ]
  },
  {
   "cell_type": "markdown",
   "metadata": {},
   "source": [
    "### Text Length"
   ]
  },
  {
   "cell_type": "code",
   "execution_count": 16,
   "metadata": {},
   "outputs": [
    {
     "data": {
      "text/html": [
       "<div>\n",
       "<style scoped>\n",
       "    .dataframe tbody tr th:only-of-type {\n",
       "        vertical-align: middle;\n",
       "    }\n",
       "\n",
       "    .dataframe tbody tr th {\n",
       "        vertical-align: top;\n",
       "    }\n",
       "\n",
       "    .dataframe thead th {\n",
       "        text-align: right;\n",
       "    }\n",
       "</style>\n",
       "<table border=\"1\" class=\"dataframe\">\n",
       "  <thead>\n",
       "    <tr style=\"text-align: right;\">\n",
       "      <th></th>\n",
       "      <th>Review</th>\n",
       "      <th>Rating</th>\n",
       "      <th>positive_rating</th>\n",
       "      <th>punct%</th>\n",
       "      <th>number%</th>\n",
       "      <th>text_length</th>\n",
       "    </tr>\n",
       "  </thead>\n",
       "  <tbody>\n",
       "    <tr>\n",
       "      <th>0</th>\n",
       "      <td>nice hotel expensive parking got good deal stay hotel anniversary, arrived late evening took advice previous reviews did valet parking, check quic...</td>\n",
       "      <td>4</td>\n",
       "      <td>1</td>\n",
       "      <td>0.023762</td>\n",
       "      <td>0.003960</td>\n",
       "      <td>593</td>\n",
       "    </tr>\n",
       "    <tr>\n",
       "      <th>1</th>\n",
       "      <td>ok nothing special charge diamond member hilton decided chain shot 20th anniversary seattle, start booked suite paid extra website description not...</td>\n",
       "      <td>2</td>\n",
       "      <td>0</td>\n",
       "      <td>0.018081</td>\n",
       "      <td>0.009040</td>\n",
       "      <td>1689</td>\n",
       "    </tr>\n",
       "    <tr>\n",
       "      <th>2</th>\n",
       "      <td>nice rooms not 4* experience hotel monaco seattle good hotel n't 4* level.positives large bathroom mediterranean suite comfortable bed pillowsatte...</td>\n",
       "      <td>3</td>\n",
       "      <td>0</td>\n",
       "      <td>0.026468</td>\n",
       "      <td>0.019851</td>\n",
       "      <td>1427</td>\n",
       "    </tr>\n",
       "    <tr>\n",
       "      <th>3</th>\n",
       "      <td>unique, great stay, wonderful time hotel monaco, location excellent short stroll main downtown shopping area, pet friendly room showed no signs an...</td>\n",
       "      <td>5</td>\n",
       "      <td>1</td>\n",
       "      <td>0.031373</td>\n",
       "      <td>0.001961</td>\n",
       "      <td>600</td>\n",
       "    </tr>\n",
       "    <tr>\n",
       "      <th>4</th>\n",
       "      <td>great stay great stay, went seahawk game awesome, downfall view building did n't complain, room huge staff helpful, booked hotels website seahawk ...</td>\n",
       "      <td>5</td>\n",
       "      <td>1</td>\n",
       "      <td>0.036731</td>\n",
       "      <td>0.001837</td>\n",
       "      <td>1281</td>\n",
       "    </tr>\n",
       "  </tbody>\n",
       "</table>\n",
       "</div>"
      ],
      "text/plain": [
       "                                                                                                                                                  Review  \\\n",
       "0  nice hotel expensive parking got good deal stay hotel anniversary, arrived late evening took advice previous reviews did valet parking, check quic...   \n",
       "1  ok nothing special charge diamond member hilton decided chain shot 20th anniversary seattle, start booked suite paid extra website description not...   \n",
       "2  nice rooms not 4* experience hotel monaco seattle good hotel n't 4* level.positives large bathroom mediterranean suite comfortable bed pillowsatte...   \n",
       "3  unique, great stay, wonderful time hotel monaco, location excellent short stroll main downtown shopping area, pet friendly room showed no signs an...   \n",
       "4  great stay great stay, went seahawk game awesome, downfall view building did n't complain, room huge staff helpful, booked hotels website seahawk ...   \n",
       "\n",
       "   Rating  positive_rating    punct%   number%  text_length  \n",
       "0       4                1  0.023762  0.003960          593  \n",
       "1       2                0  0.018081  0.009040         1689  \n",
       "2       3                0  0.026468  0.019851         1427  \n",
       "3       5                1  0.031373  0.001961          600  \n",
       "4       5                1  0.036731  0.001837         1281  "
      ]
     },
     "execution_count": 16,
     "metadata": {},
     "output_type": "execute_result"
    }
   ],
   "source": [
    "# Apply the len function to the data set to count the number of characters for each review\n",
    "df['text_length'] = df['Review'].apply(len)\n",
    "df.head()"
   ]
  },
  {
   "cell_type": "code",
   "execution_count": 18,
   "metadata": {},
   "outputs": [
    {
     "data": {
      "text/html": [
       "<div>\n",
       "<style scoped>\n",
       "    .dataframe tbody tr th:only-of-type {\n",
       "        vertical-align: middle;\n",
       "    }\n",
       "\n",
       "    .dataframe tbody tr th {\n",
       "        vertical-align: top;\n",
       "    }\n",
       "\n",
       "    .dataframe thead th {\n",
       "        text-align: right;\n",
       "    }\n",
       "</style>\n",
       "<table border=\"1\" class=\"dataframe\">\n",
       "  <thead>\n",
       "    <tr style=\"text-align: right;\">\n",
       "      <th></th>\n",
       "      <th>Review</th>\n",
       "      <th>Rating</th>\n",
       "      <th>positive_rating</th>\n",
       "      <th>punct%</th>\n",
       "      <th>number%</th>\n",
       "      <th>text_length</th>\n",
       "    </tr>\n",
       "  </thead>\n",
       "  <tbody>\n",
       "    <tr>\n",
       "      <th>7072</th>\n",
       "      <td>honest review visit 5/21-5/28 let begin saying heard secrets couple work went resort year returned raving experiences, all-inclusive regular cruis...</td>\n",
       "      <td>3</td>\n",
       "      <td>0</td>\n",
       "      <td>0.031896</td>\n",
       "      <td>0.006569</td>\n",
       "      <td>13501</td>\n",
       "    </tr>\n",
       "  </tbody>\n",
       "</table>\n",
       "</div>"
      ],
      "text/plain": [
       "                                                                                                                                                     Review  \\\n",
       "7072  honest review visit 5/21-5/28 let begin saying heard secrets couple work went resort year returned raving experiences, all-inclusive regular cruis...   \n",
       "\n",
       "      Rating  positive_rating    punct%   number%  text_length  \n",
       "7072       3                0  0.031896  0.006569        13501  "
      ]
     },
     "execution_count": 18,
     "metadata": {},
     "output_type": "execute_result"
    }
   ],
   "source": [
    "# Find the review with the maximum text length\n",
    "df[df['text_length'] == df['text_length'].max()]"
   ]
  },
  {
   "cell_type": "markdown",
   "metadata": {},
   "source": [
    "### Evaluation for each engineered feature"
   ]
  },
  {
   "cell_type": "code",
   "execution_count": 22,
   "metadata": {},
   "outputs": [
    {
     "data": {
      "image/png": "[encoded data removed]",
      "text/plain": [
       "<Figure size 864x432 with 1 Axes>"
      ]
     },
     "metadata": {
      "needs_background": "light"
     },
     "output_type": "display_data"
    },
    {
     "data": {
      "image/png": "[encoded data removed]",
      "text/plain": [
       "<Figure size 864x432 with 1 Axes>"
      ]
     },
     "metadata": {
      "needs_background": "light"
     },
     "output_type": "display_data"
    },
    {
     "data": {
      "image/png": "[encoded data removed]",
      "text/plain": [
       "<Figure size 864x432 with 1 Axes>"
      ]
     },
     "metadata": {
      "needs_background": "light"
     },
     "output_type": "display_data"
    }
   ],
   "source": [
    "# Draw a histogram for each of the features to see if there's a correlation between feature and positive/negative rating\n",
    "for i in ['punct%', 'number%', 'text_length']:\n",
    "    plt.figure(figsize=(12,6))\n",
    "    sns.histplot(data=df, x=i, hue='positive_rating', bins=50, fill=True, palette='coolwarm')\n",
    "    plt.title('Distribution of {} with positive/negative rating'.format(i))\n",
    "    plt.show()"
   ]
  },
  {
   "cell_type": "markdown",
   "metadata": {},
   "source": [
    "From the feature distributions above, there doesn't appear to be any correlation between the feature and positive/negative ratings as the proportions for both positive and negative seem to be fairly equal for all bins and all features"
   ]
  },
  {
   "cell_type": "markdown",
   "metadata": {},
   "source": [
    "## Cleaning the Text Data"
   ]
  },
  {
   "cell_type": "markdown",
   "metadata": {},
   "source": [
    "Cleaning the data is important as it means there's less data for the model to look at. For example common words are removed and similar words are combine together. It is a necessary step to highlight attributes that we want the machine learning system to pick up on"
   ]
  },
  {
   "cell_type": "code",
   "execution_count": 27,
   "metadata": {},
   "outputs": [
    {
     "name": "stdout",
     "output_type": "stream",
     "text": [
      "nice hotel expensive parking got good deal stay hotel anniversary, arrived late evening took advice previous reviews did valet parking, check quick easy, little disappointed non-existent view room room clean nice size, bed comfortable woke stiff neck high pillows, not soundproof like heard music room night morning loud bangs doors opening closing hear people talking hallway, maybe just noisy neighbors, aveda bath products nice, did not goldfish stay nice touch taken advantage staying longer, location great walking distance shopping, overall nice experience having pay 40 parking night,  \n",
      "['nice', 'hotel', 'expens', 'park', 'got', 'good', 'deal', 'stay', 'hotel', 'anniversari', 'arriv', 'late', 'even', 'took', 'advic', 'previou', 'review', 'valet', 'park', 'check', 'quick', 'easi', 'littl', 'disappoint', 'nonexist', 'view', 'room', 'room', 'clean', 'nice', 'size', 'bed', 'comfort', 'woke', 'stiff', 'neck', 'high', 'pillow', 'soundproof', 'like', 'heard', 'music', 'room', 'night', 'morn', 'loud', 'bang', 'door', 'open', 'close', 'hear', 'peopl', 'talk', 'hallway', 'mayb', 'noisi', 'neighbor', 'aveda', 'bath', 'product', 'nice', 'goldfish', 'stay', 'nice', 'touch', 'taken', 'advantag', 'stay', 'longer', 'locat', 'great', 'walk', 'distanc', 'shop', 'overal', 'nice', 'experi', 'pay', 'park', 'night', '']\n"
     ]
    }
   ],
   "source": [
    "# A function is created which removes punctuation, removes digits, splits the string into tokens, removes stopwords and stemms\n",
    "# or lemmatizes each word\n",
    "\n",
    "ps = nltk.PorterStemmer()\n",
    "number_list = ['0', '1', '2', '3', '4', '5', '6', '7', '8', '9']\n",
    "def clean_text(text):\n",
    "    no_punc = \"\".join([char.lower() for char in text if char not in string.punctuation])\n",
    "    no_digit = \"\".join([char for char in no_punc if char not in number_list])\n",
    "    tokens = re.split('\\W+', no_digit)\n",
    "    no_stopwords = [ps.stem(word) for word in tokens if word not in nltk.corpus.stopwords.words('english')]\n",
    "    return no_stopwords\n",
    "\n",
    "# Test this function on the first row in the dataset\n",
    "print(df['Review'].iloc[0])\n",
    "print(clean_text(df['Review'].iloc[0]))"
   ]
  },
  {
   "cell_type": "code",
   "execution_count": 28,
   "metadata": {},
   "outputs": [
    {
     "data": {
      "text/html": [
       "<div>\n",
       "<style scoped>\n",
       "    .dataframe tbody tr th:only-of-type {\n",
       "        vertical-align: middle;\n",
       "    }\n",
       "\n",
       "    .dataframe tbody tr th {\n",
       "        vertical-align: top;\n",
       "    }\n",
       "\n",
       "    .dataframe thead th {\n",
       "        text-align: right;\n",
       "    }\n",
       "</style>\n",
       "<table border=\"1\" class=\"dataframe\">\n",
       "  <thead>\n",
       "    <tr style=\"text-align: right;\">\n",
       "      <th></th>\n",
       "      <th>Review</th>\n",
       "      <th>Rating</th>\n",
       "      <th>positive_rating</th>\n",
       "      <th>punct%</th>\n",
       "      <th>number%</th>\n",
       "      <th>text_length</th>\n",
       "      <th>clean_review</th>\n",
       "    </tr>\n",
       "  </thead>\n",
       "  <tbody>\n",
       "    <tr>\n",
       "      <th>0</th>\n",
       "      <td>nice hotel expensive parking got good deal stay hotel anniversary, arrived late evening took advice previous reviews did valet parking, check quic...</td>\n",
       "      <td>4</td>\n",
       "      <td>1</td>\n",
       "      <td>0.023762</td>\n",
       "      <td>0.003960</td>\n",
       "      <td>593</td>\n",
       "      <td>[nice, hotel, expens, park, got, good, deal, stay, hotel, anniversari, arriv, late, even, took, advic, previou, review, valet, park, check, quick,...</td>\n",
       "    </tr>\n",
       "    <tr>\n",
       "      <th>1</th>\n",
       "      <td>ok nothing special charge diamond member hilton decided chain shot 20th anniversary seattle, start booked suite paid extra website description not...</td>\n",
       "      <td>2</td>\n",
       "      <td>0</td>\n",
       "      <td>0.018081</td>\n",
       "      <td>0.009040</td>\n",
       "      <td>1689</td>\n",
       "      <td>[ok, noth, special, charg, diamond, member, hilton, decid, chain, shot, th, anniversari, seattl, start, book, suit, paid, extra, websit, descript,...</td>\n",
       "    </tr>\n",
       "    <tr>\n",
       "      <th>2</th>\n",
       "      <td>nice rooms not 4* experience hotel monaco seattle good hotel n't 4* level.positives large bathroom mediterranean suite comfortable bed pillowsatte...</td>\n",
       "      <td>3</td>\n",
       "      <td>0</td>\n",
       "      <td>0.026468</td>\n",
       "      <td>0.019851</td>\n",
       "      <td>1427</td>\n",
       "      <td>[nice, room, experi, hotel, monaco, seattl, good, hotel, nt, levelposit, larg, bathroom, mediterranean, suit, comfort, bed, pillowsattent, houseke...</td>\n",
       "    </tr>\n",
       "    <tr>\n",
       "      <th>3</th>\n",
       "      <td>unique, great stay, wonderful time hotel monaco, location excellent short stroll main downtown shopping area, pet friendly room showed no signs an...</td>\n",
       "      <td>5</td>\n",
       "      <td>1</td>\n",
       "      <td>0.031373</td>\n",
       "      <td>0.001961</td>\n",
       "      <td>600</td>\n",
       "      <td>[uniqu, great, stay, wonder, time, hotel, monaco, locat, excel, short, stroll, main, downtown, shop, area, pet, friendli, room, show, sign, anim, ...</td>\n",
       "    </tr>\n",
       "    <tr>\n",
       "      <th>4</th>\n",
       "      <td>great stay great stay, went seahawk game awesome, downfall view building did n't complain, room huge staff helpful, booked hotels website seahawk ...</td>\n",
       "      <td>5</td>\n",
       "      <td>1</td>\n",
       "      <td>0.036731</td>\n",
       "      <td>0.001837</td>\n",
       "      <td>1281</td>\n",
       "      <td>[great, stay, great, stay, went, seahawk, game, awesom, downfal, view, build, nt, complain, room, huge, staff, help, book, hotel, websit, seahawk,...</td>\n",
       "    </tr>\n",
       "  </tbody>\n",
       "</table>\n",
       "</div>"
      ],
      "text/plain": [
       "                                                                                                                                                  Review  \\\n",
       "0  nice hotel expensive parking got good deal stay hotel anniversary, arrived late evening took advice previous reviews did valet parking, check quic...   \n",
       "1  ok nothing special charge diamond member hilton decided chain shot 20th anniversary seattle, start booked suite paid extra website description not...   \n",
       "2  nice rooms not 4* experience hotel monaco seattle good hotel n't 4* level.positives large bathroom mediterranean suite comfortable bed pillowsatte...   \n",
       "3  unique, great stay, wonderful time hotel monaco, location excellent short stroll main downtown shopping area, pet friendly room showed no signs an...   \n",
       "4  great stay great stay, went seahawk game awesome, downfall view building did n't complain, room huge staff helpful, booked hotels website seahawk ...   \n",
       "\n",
       "   Rating  positive_rating    punct%   number%  text_length  \\\n",
       "0       4                1  0.023762  0.003960          593   \n",
       "1       2                0  0.018081  0.009040         1689   \n",
       "2       3                0  0.026468  0.019851         1427   \n",
       "3       5                1  0.031373  0.001961          600   \n",
       "4       5                1  0.036731  0.001837         1281   \n",
       "\n",
       "                                                                                                                                            clean_review  \n",
       "0  [nice, hotel, expens, park, got, good, deal, stay, hotel, anniversari, arriv, late, even, took, advic, previou, review, valet, park, check, quick,...  \n",
       "1  [ok, noth, special, charg, diamond, member, hilton, decid, chain, shot, th, anniversari, seattl, start, book, suit, paid, extra, websit, descript,...  \n",
       "2  [nice, room, experi, hotel, monaco, seattl, good, hotel, nt, levelposit, larg, bathroom, mediterranean, suit, comfort, bed, pillowsattent, houseke...  \n",
       "3  [uniqu, great, stay, wonder, time, hotel, monaco, locat, excel, short, stroll, main, downtown, shop, area, pet, friendli, room, show, sign, anim, ...  \n",
       "4  [great, stay, great, stay, went, seahawk, game, awesom, downfal, view, build, nt, complain, room, huge, staff, help, book, hotel, websit, seahawk,...  "
      ]
     },
     "execution_count": 28,
     "metadata": {},
     "output_type": "execute_result"
    }
   ],
   "source": [
    "# Apply the clean text function to every row in the table and create a new column\n",
    "df['clean_review'] = df['Review'].apply(lambda x: clean_text(x))\n",
    "df.head()"
   ]
  },
  {
   "cell_type": "markdown",
   "metadata": {},
   "source": [
    "## Vectorization"
   ]
  },
  {
   "cell_type": "markdown",
   "metadata": {},
   "source": [
    "We can convert the cleaned text data into numeric form as this is the only way Python and a machine learning model can understand. There are multiple ways to vectorize text data including CountVectorizer, N-grams but the method of choice is the TfidfVectorizer. Each element in the Tfidf vectorizer matrix represents a weighting that idenitifes how important a word is to an individual review"
   ]
  },
  {
   "cell_type": "markdown",
   "metadata": {},
   "source": [
    "Usually we would only vectorize on the training data and fit the test data to the vectorized model however, looking forward to the next steps we will be performing cross-validation hence it is easier to fit the vectorizer on the entire data set. \n",
    "\n",
    "After the grid-search cross-validation method, we will be splitting the data into a training set and a holdout test set as usual and for this we shall only fit the vectorizer model on the training set"
   ]
  },
  {
   "cell_type": "code",
   "execution_count": 29,
   "metadata": {},
   "outputs": [],
   "source": [
    "# Import the vectorizer model\n",
    "from sklearn.feature_extraction.text import TfidfVectorizer"
   ]
  },
  {
   "cell_type": "code",
   "execution_count": 30,
   "metadata": {},
   "outputs": [],
   "source": [
    "# We instantiate the model and pass the analyzer hyperparameter as this will clean and tokenize our data\n",
    "tfidf = TfidfVectorizer(analyzer=clean_text)"
   ]
  },
  {
   "cell_type": "code",
   "execution_count": 31,
   "metadata": {},
   "outputs": [],
   "source": [
    "# Fit and transform the text data into a vectorized model\n",
    "tfidf_model = tfidf.fit_transform(df['Review'])"
   ]
  },
  {
   "cell_type": "code",
   "execution_count": 32,
   "metadata": {},
   "outputs": [
    {
     "data": {
      "text/plain": [
       "scipy.sparse.csr.csr_matrix"
      ]
     },
     "execution_count": 32,
     "metadata": {},
     "output_type": "execute_result"
    }
   ],
   "source": [
    "# Check the type of the vectorized model, it is a sparse matrix which means we will have to convert it to a DataFrame to view it\n",
    "type(tfidf_model)"
   ]
  },
  {
   "cell_type": "code",
   "execution_count": 35,
   "metadata": {},
   "outputs": [
    {
     "data": {
      "text/plain": [
       "(20491, 62222)"
      ]
     },
     "execution_count": 35,
     "metadata": {},
     "output_type": "execute_result"
    }
   ],
   "source": [
    "# The size of this matrix is huge so we can't view it as a DataFrame as there isn't enough memory\n",
    "tfidf_model.shape"
   ]
  },
  {
   "cell_type": "markdown",
   "metadata": {},
   "source": [
    "## Machine Learning Classifiers"
   ]
  },
  {
   "cell_type": "markdown",
   "metadata": {},
   "source": [
    "There are three different machine learning classifiers that I'll be testing to see which machine learning model will provide the best results and best predictions positive/negative reviews"
   ]
  },
  {
   "cell_type": "markdown",
   "metadata": {},
   "source": [
    "### Random Forest Classifier"
   ]
  },
  {
   "cell_type": "markdown",
   "metadata": {},
   "source": [
    "The first machine learning model that I'll be testing is the random forest classifier. Initially, I will be using Grid Search to find the parameters which provide the most accurate results and I'll be combining this with cross-validation with a split of 5 to find robust results for this model.\n",
    "\n",
    "I will then test the random forest model the 'normal' way with a holdout test set based on the best parameters found from the Grid-Search method"
   ]
  },
  {
   "cell_type": "code",
   "execution_count": 36,
   "metadata": {},
   "outputs": [],
   "source": [
    "from sklearn.ensemble import RandomForestClassifier\n",
    "from sklearn.model_selection import GridSearchCV"
   ]
  },
  {
   "cell_type": "markdown",
   "metadata": {},
   "source": [
    "#### Random Forest Classifier with GridSearchCV "
   ]
  },
  {
   "cell_type": "code",
   "execution_count": 37,
   "metadata": {},
   "outputs": [],
   "source": [
    "# Instantiate the Random Forest Classifier Model\n",
    "rf = RandomForestClassifier()"
   ]
  },
  {
   "cell_type": "code",
   "execution_count": 38,
   "metadata": {},
   "outputs": [],
   "source": [
    "# Create a parameter dictionary to put in the grid-search model for it to cycle through hyperparameters and find the best\n",
    "# combination for our model, we use a split of cv=5 and n_jobs=-1 as this means the trees will be built in parallel\n",
    "\n",
    "params = {'n_estimators': [50, 100, 200, 300],\n",
    "         'max_depth':[30, 90, None]}\n",
    "\n",
    "gs = GridSearchCV(rf, params, cv=5, n_jobs=-1)"
   ]
  },
  {
   "cell_type": "code",
   "execution_count": 40,
   "metadata": {},
   "outputs": [],
   "source": [
    "# Fitting our grid-search cross-validation model onto the review data\n",
    "gs_model = gs.fit(tfidf_model, df['positive_rating'])"
   ]
  },
  {
   "cell_type": "code",
   "execution_count": 41,
   "metadata": {},
   "outputs": [
    {
     "data": {
      "text/html": [
       "<div>\n",
       "<style scoped>\n",
       "    .dataframe tbody tr th:only-of-type {\n",
       "        vertical-align: middle;\n",
       "    }\n",
       "\n",
       "    .dataframe tbody tr th {\n",
       "        vertical-align: top;\n",
       "    }\n",
       "\n",
       "    .dataframe thead th {\n",
       "        text-align: right;\n",
       "    }\n",
       "</style>\n",
       "<table border=\"1\" class=\"dataframe\">\n",
       "  <thead>\n",
       "    <tr style=\"text-align: right;\">\n",
       "      <th></th>\n",
       "      <th>mean_fit_time</th>\n",
       "      <th>std_fit_time</th>\n",
       "      <th>mean_score_time</th>\n",
       "      <th>std_score_time</th>\n",
       "      <th>param_max_depth</th>\n",
       "      <th>param_n_estimators</th>\n",
       "      <th>params</th>\n",
       "      <th>split0_test_score</th>\n",
       "      <th>split1_test_score</th>\n",
       "      <th>split2_test_score</th>\n",
       "      <th>split3_test_score</th>\n",
       "      <th>split4_test_score</th>\n",
       "      <th>mean_test_score</th>\n",
       "      <th>std_test_score</th>\n",
       "      <th>rank_test_score</th>\n",
       "    </tr>\n",
       "  </thead>\n",
       "  <tbody>\n",
       "    <tr>\n",
       "      <th>8</th>\n",
       "      <td>28.558113</td>\n",
       "      <td>0.545393</td>\n",
       "      <td>0.185944</td>\n",
       "      <td>0.004327</td>\n",
       "      <td>None</td>\n",
       "      <td>50</td>\n",
       "      <td>{'max_depth': None, 'n_estimators': 50}</td>\n",
       "      <td>0.839473</td>\n",
       "      <td>0.830405</td>\n",
       "      <td>0.819424</td>\n",
       "      <td>0.824793</td>\n",
       "      <td>0.821132</td>\n",
       "      <td>0.827045</td>\n",
       "      <td>0.007264</td>\n",
       "      <td>1</td>\n",
       "    </tr>\n",
       "    <tr>\n",
       "      <th>9</th>\n",
       "      <td>56.677948</td>\n",
       "      <td>1.076084</td>\n",
       "      <td>0.346076</td>\n",
       "      <td>0.015617</td>\n",
       "      <td>None</td>\n",
       "      <td>100</td>\n",
       "      <td>{'max_depth': None, 'n_estimators': 100}</td>\n",
       "      <td>0.841181</td>\n",
       "      <td>0.824793</td>\n",
       "      <td>0.816740</td>\n",
       "      <td>0.826257</td>\n",
       "      <td>0.819180</td>\n",
       "      <td>0.825630</td>\n",
       "      <td>0.008527</td>\n",
       "      <td>2</td>\n",
       "    </tr>\n",
       "    <tr>\n",
       "      <th>10</th>\n",
       "      <td>113.276797</td>\n",
       "      <td>1.318461</td>\n",
       "      <td>0.673372</td>\n",
       "      <td>0.036107</td>\n",
       "      <td>None</td>\n",
       "      <td>200</td>\n",
       "      <td>{'max_depth': None, 'n_estimators': 200}</td>\n",
       "      <td>0.848500</td>\n",
       "      <td>0.819668</td>\n",
       "      <td>0.812592</td>\n",
       "      <td>0.825037</td>\n",
       "      <td>0.816252</td>\n",
       "      <td>0.824410</td>\n",
       "      <td>0.012723</td>\n",
       "      <td>3</td>\n",
       "    </tr>\n",
       "    <tr>\n",
       "      <th>11</th>\n",
       "      <td>165.404130</td>\n",
       "      <td>9.464182</td>\n",
       "      <td>0.962169</td>\n",
       "      <td>0.054056</td>\n",
       "      <td>None</td>\n",
       "      <td>300</td>\n",
       "      <td>{'max_depth': None, 'n_estimators': 300}</td>\n",
       "      <td>0.844352</td>\n",
       "      <td>0.824305</td>\n",
       "      <td>0.814544</td>\n",
       "      <td>0.826013</td>\n",
       "      <td>0.811127</td>\n",
       "      <td>0.824068</td>\n",
       "      <td>0.011606</td>\n",
       "      <td>4</td>\n",
       "    </tr>\n",
       "    <tr>\n",
       "      <th>4</th>\n",
       "      <td>24.116355</td>\n",
       "      <td>0.250976</td>\n",
       "      <td>0.166723</td>\n",
       "      <td>0.010302</td>\n",
       "      <td>90</td>\n",
       "      <td>50</td>\n",
       "      <td>{'max_depth': 90, 'n_estimators': 50}</td>\n",
       "      <td>0.837033</td>\n",
       "      <td>0.826013</td>\n",
       "      <td>0.807711</td>\n",
       "      <td>0.814788</td>\n",
       "      <td>0.811127</td>\n",
       "      <td>0.819334</td>\n",
       "      <td>0.010779</td>\n",
       "      <td>5</td>\n",
       "    </tr>\n",
       "    <tr>\n",
       "      <th>5</th>\n",
       "      <td>48.690206</td>\n",
       "      <td>0.299545</td>\n",
       "      <td>0.336033</td>\n",
       "      <td>0.028113</td>\n",
       "      <td>90</td>\n",
       "      <td>100</td>\n",
       "      <td>{'max_depth': 90, 'n_estimators': 100}</td>\n",
       "      <td>0.837033</td>\n",
       "      <td>0.817472</td>\n",
       "      <td>0.809907</td>\n",
       "      <td>0.814056</td>\n",
       "      <td>0.815764</td>\n",
       "      <td>0.818846</td>\n",
       "      <td>0.009434</td>\n",
       "      <td>6</td>\n",
       "    </tr>\n",
       "    <tr>\n",
       "      <th>6</th>\n",
       "      <td>97.227059</td>\n",
       "      <td>1.796741</td>\n",
       "      <td>0.632456</td>\n",
       "      <td>0.037477</td>\n",
       "      <td>90</td>\n",
       "      <td>200</td>\n",
       "      <td>{'max_depth': 90, 'n_estimators': 200}</td>\n",
       "      <td>0.842645</td>\n",
       "      <td>0.816252</td>\n",
       "      <td>0.807711</td>\n",
       "      <td>0.815764</td>\n",
       "      <td>0.811615</td>\n",
       "      <td>0.818797</td>\n",
       "      <td>0.012320</td>\n",
       "      <td>7</td>\n",
       "    </tr>\n",
       "    <tr>\n",
       "      <th>7</th>\n",
       "      <td>145.359416</td>\n",
       "      <td>1.715338</td>\n",
       "      <td>0.931262</td>\n",
       "      <td>0.053990</td>\n",
       "      <td>90</td>\n",
       "      <td>300</td>\n",
       "      <td>{'max_depth': 90, 'n_estimators': 300}</td>\n",
       "      <td>0.834350</td>\n",
       "      <td>0.816984</td>\n",
       "      <td>0.808687</td>\n",
       "      <td>0.816008</td>\n",
       "      <td>0.808931</td>\n",
       "      <td>0.816992</td>\n",
       "      <td>0.009340</td>\n",
       "      <td>8</td>\n",
       "    </tr>\n",
       "    <tr>\n",
       "      <th>0</th>\n",
       "      <td>9.839335</td>\n",
       "      <td>0.196484</td>\n",
       "      <td>0.133312</td>\n",
       "      <td>0.008468</td>\n",
       "      <td>30</td>\n",
       "      <td>50</td>\n",
       "      <td>{'max_depth': 30, 'n_estimators': 50}</td>\n",
       "      <td>0.785313</td>\n",
       "      <td>0.772328</td>\n",
       "      <td>0.771352</td>\n",
       "      <td>0.770132</td>\n",
       "      <td>0.772816</td>\n",
       "      <td>0.774388</td>\n",
       "      <td>0.005539</td>\n",
       "      <td>9</td>\n",
       "    </tr>\n",
       "    <tr>\n",
       "      <th>3</th>\n",
       "      <td>58.903422</td>\n",
       "      <td>1.068535</td>\n",
       "      <td>0.684376</td>\n",
       "      <td>0.061650</td>\n",
       "      <td>30</td>\n",
       "      <td>300</td>\n",
       "      <td>{'max_depth': 30, 'n_estimators': 300}</td>\n",
       "      <td>0.785801</td>\n",
       "      <td>0.769888</td>\n",
       "      <td>0.763543</td>\n",
       "      <td>0.770864</td>\n",
       "      <td>0.768424</td>\n",
       "      <td>0.771704</td>\n",
       "      <td>0.007485</td>\n",
       "      <td>10</td>\n",
       "    </tr>\n",
       "    <tr>\n",
       "      <th>1</th>\n",
       "      <td>19.559034</td>\n",
       "      <td>0.324308</td>\n",
       "      <td>0.239826</td>\n",
       "      <td>0.017523</td>\n",
       "      <td>30</td>\n",
       "      <td>100</td>\n",
       "      <td>{'max_depth': 30, 'n_estimators': 100}</td>\n",
       "      <td>0.784338</td>\n",
       "      <td>0.770376</td>\n",
       "      <td>0.762811</td>\n",
       "      <td>0.770376</td>\n",
       "      <td>0.769888</td>\n",
       "      <td>0.771558</td>\n",
       "      <td>0.007006</td>\n",
       "      <td>11</td>\n",
       "    </tr>\n",
       "    <tr>\n",
       "      <th>2</th>\n",
       "      <td>39.315957</td>\n",
       "      <td>0.705728</td>\n",
       "      <td>0.467246</td>\n",
       "      <td>0.028811</td>\n",
       "      <td>30</td>\n",
       "      <td>200</td>\n",
       "      <td>{'max_depth': 30, 'n_estimators': 200}</td>\n",
       "      <td>0.781898</td>\n",
       "      <td>0.769644</td>\n",
       "      <td>0.768668</td>\n",
       "      <td>0.767936</td>\n",
       "      <td>0.766471</td>\n",
       "      <td>0.770923</td>\n",
       "      <td>0.005584</td>\n",
       "      <td>12</td>\n",
       "    </tr>\n",
       "  </tbody>\n",
       "</table>\n",
       "</div>"
      ],
      "text/plain": [
       "    mean_fit_time  std_fit_time  mean_score_time  std_score_time  \\\n",
       "8       28.558113      0.545393         0.185944        0.004327   \n",
       "9       56.677948      1.076084         0.346076        0.015617   \n",
       "10     113.276797      1.318461         0.673372        0.036107   \n",
       "11     165.404130      9.464182         0.962169        0.054056   \n",
       "4       24.116355      0.250976         0.166723        0.010302   \n",
       "5       48.690206      0.299545         0.336033        0.028113   \n",
       "6       97.227059      1.796741         0.632456        0.037477   \n",
       "7      145.359416      1.715338         0.931262        0.053990   \n",
       "0        9.839335      0.196484         0.133312        0.008468   \n",
       "3       58.903422      1.068535         0.684376        0.061650   \n",
       "1       19.559034      0.324308         0.239826        0.017523   \n",
       "2       39.315957      0.705728         0.467246        0.028811   \n",
       "\n",
       "   param_max_depth param_n_estimators  \\\n",
       "8             None                 50   \n",
       "9             None                100   \n",
       "10            None                200   \n",
       "11            None                300   \n",
       "4               90                 50   \n",
       "5               90                100   \n",
       "6               90                200   \n",
       "7               90                300   \n",
       "0               30                 50   \n",
       "3               30                300   \n",
       "1               30                100   \n",
       "2               30                200   \n",
       "\n",
       "                                      params  split0_test_score  \\\n",
       "8    {'max_depth': None, 'n_estimators': 50}           0.839473   \n",
       "9   {'max_depth': None, 'n_estimators': 100}           0.841181   \n",
       "10  {'max_depth': None, 'n_estimators': 200}           0.848500   \n",
       "11  {'max_depth': None, 'n_estimators': 300}           0.844352   \n",
       "4      {'max_depth': 90, 'n_estimators': 50}           0.837033   \n",
       "5     {'max_depth': 90, 'n_estimators': 100}           0.837033   \n",
       "6     {'max_depth': 90, 'n_estimators': 200}           0.842645   \n",
       "7     {'max_depth': 90, 'n_estimators': 300}           0.834350   \n",
       "0      {'max_depth': 30, 'n_estimators': 50}           0.785313   \n",
       "3     {'max_depth': 30, 'n_estimators': 300}           0.785801   \n",
       "1     {'max_depth': 30, 'n_estimators': 100}           0.784338   \n",
       "2     {'max_depth': 30, 'n_estimators': 200}           0.781898   \n",
       "\n",
       "    split1_test_score  split2_test_score  split3_test_score  \\\n",
       "8            0.830405           0.819424           0.824793   \n",
       "9            0.824793           0.816740           0.826257   \n",
       "10           0.819668           0.812592           0.825037   \n",
       "11           0.824305           0.814544           0.826013   \n",
       "4            0.826013           0.807711           0.814788   \n",
       "5            0.817472           0.809907           0.814056   \n",
       "6            0.816252           0.807711           0.815764   \n",
       "7            0.816984           0.808687           0.816008   \n",
       "0            0.772328           0.771352           0.770132   \n",
       "3            0.769888           0.763543           0.770864   \n",
       "1            0.770376           0.762811           0.770376   \n",
       "2            0.769644           0.768668           0.767936   \n",
       "\n",
       "    split4_test_score  mean_test_score  std_test_score  rank_test_score  \n",
       "8            0.821132         0.827045        0.007264                1  \n",
       "9            0.819180         0.825630        0.008527                2  \n",
       "10           0.816252         0.824410        0.012723                3  \n",
       "11           0.811127         0.824068        0.011606                4  \n",
       "4            0.811127         0.819334        0.010779                5  \n",
       "5            0.815764         0.818846        0.009434                6  \n",
       "6            0.811615         0.818797        0.012320                7  \n",
       "7            0.808931         0.816992        0.009340                8  \n",
       "0            0.772816         0.774388        0.005539                9  \n",
       "3            0.768424         0.771704        0.007485               10  \n",
       "1            0.769888         0.771558        0.007006               11  \n",
       "2            0.766471         0.770923        0.005584               12  "
      ]
     },
     "execution_count": 41,
     "metadata": {},
     "output_type": "execute_result"
    }
   ],
   "source": [
    "# We can view the accuracy results for each cross-validation and an average for each hyperparameter tested\n",
    "pd.DataFrame(gs_model.cv_results_).sort_values('mean_test_score',ascending=False)"
   ]
  },
  {
   "cell_type": "markdown",
   "metadata": {},
   "source": [
    "From the Grid Search above, we can clearly see that having the max_depth as None provides the best results in terms of accuracy. The hyperparameter n_estimators doesn't seem to be making too much difference so for the random forest model test with a single holdout test we can keep the n_estimators as 100. N_estimators signifies the number of trees in the model and max_depth is the maximum depth of each decision tree"
   ]
  },
  {
   "cell_type": "markdown",
   "metadata": {},
   "source": [
    "#### Random Forest Classifier with single holdout test set"
   ]
  },
  {
   "cell_type": "code",
   "execution_count": 53,
   "metadata": {},
   "outputs": [],
   "source": [
    "# Import Random forest model and train test split\n",
    "from sklearn.ensemble import RandomForestClassifier\n",
    "from sklearn.model_selection import train_test_split"
   ]
  },
  {
   "cell_type": "code",
   "execution_count": 54,
   "metadata": {},
   "outputs": [],
   "source": [
    "# Instantiate Random Forest model\n",
    "rf_holdout = RandomForestClassifier(n_estimators=100, max_depth=None, n_jobs=-1)"
   ]
  },
  {
   "cell_type": "code",
   "execution_count": 55,
   "metadata": {},
   "outputs": [
    {
     "data": {
      "text/plain": [
       "11712    fantastic luna wife satisfaied hotel, located queit area remarkable cleaning room fantastic staff want thanks, located near underground station pi...\n",
       "1856     excellent location 4th trip san fran stayed levels cost location reviews said great location handy public transportation importanly free parking d...\n",
       "5400     non-smokers beware according staff hotel floors non-smoking rooms, requested room 6 weeks prior arrival, arrived hotel fully booked non-smoking ro...\n",
       "4966     nice, ca n't add reviewer st. paul wrote, magnificent hotel gorgeous lobby gorgeous rooms huge fantastic bathrooms helpful gracious staff, heavenl...\n",
       "14733    service, arrival caribe club shown room smelt bed not ideal mother daughter patio door obviously broken previously lock did not work bent, porter ...\n",
       "Name: Review, dtype: object"
      ]
     },
     "execution_count": 55,
     "metadata": {},
     "output_type": "execute_result"
    }
   ],
   "source": [
    "# Split the training and test data and view the X_train_df to make sure it is split correctly\n",
    "X_train_rf, X_test_rf, y_train_rf, y_test_rf = train_test_split(df['Review'], df['positive_rating'], test_size=0.33)\n",
    "X_train_rf.head()"
   ]
  },
  {
   "cell_type": "code",
   "execution_count": 56,
   "metadata": {},
   "outputs": [
    {
     "name": "stdout",
     "output_type": "stream",
     "text": [
      "(13728,) (6763,)\n"
     ]
    }
   ],
   "source": [
    "# View size of the data objects when the data has been split into training and test\n",
    "print(X_train_rf.shape, X_test_rf.shape)"
   ]
  },
  {
   "cell_type": "code",
   "execution_count": 57,
   "metadata": {},
   "outputs": [],
   "source": [
    "# import the vectorization method (tf-idf)\n",
    "from sklearn.feature_extraction.text import TfidfVectorizer"
   ]
  },
  {
   "cell_type": "code",
   "execution_count": 58,
   "metadata": {},
   "outputs": [],
   "source": [
    "# Instantiate the vectorization model and pass the clean_text function to the text into a list of tokens\n",
    "tfidf_rf = TfidfVectorizer(analyzer=clean_text)"
   ]
  },
  {
   "cell_type": "code",
   "execution_count": 59,
   "metadata": {},
   "outputs": [],
   "source": [
    "# Fit the vectorization model on the training data only\n",
    "tfidf_rf_model = tfidf_rf.fit(X_train_rf)"
   ]
  },
  {
   "cell_type": "code",
   "execution_count": 61,
   "metadata": {},
   "outputs": [],
   "source": [
    "# Transform the training and test data using the trained vectorization model\n",
    "X_train_rf_features = tfidf_rf_model.transform(X_train_rf)\n",
    "X_test_rf_features = tfidf_rf_model.transform(X_test_rf)"
   ]
  },
  {
   "cell_type": "code",
   "execution_count": 62,
   "metadata": {},
   "outputs": [],
   "source": [
    "# Fit the random forest model on the vectorization features using the test labels as well\n",
    "rf_holdout_model = rf_holdout.fit(X_train_rf_features, y_train_rf)"
   ]
  },
  {
   "cell_type": "code",
   "execution_count": 63,
   "metadata": {},
   "outputs": [],
   "source": [
    "# Make predictions on the vectorized test set based on the trained random forest model\n",
    "predictions_rf = rf_holdout_model.predict(X_test_rf_features)"
   ]
  },
  {
   "cell_type": "code",
   "execution_count": 72,
   "metadata": {},
   "outputs": [
    {
     "name": "stdout",
     "output_type": "stream",
     "text": [
      "For the Random Forest Classifier Model: Precision - 0.8239262794141846 / Recall - 0.9936495336376265 / Accuracy - 0.8370545615850954\n"
     ]
    }
   ],
   "source": [
    "# Use these metrics to calculate the precision, recall and accuracy of our model compared to the true values\n",
    "from sklearn.metrics import precision_score, recall_score\n",
    "precision_rf =  precision_score(y_test_rf, predictions_rf)\n",
    "recall_rf = recall_score(y_test_rf, predictions_rf)\n",
    "accuracy_rf = sum(predictions_rf==y_test_rf) / len(predictions_rf)\n",
    "\n",
    "print('For the Random Forest Classifier Model: Precision - {} / Recall - {} / Accuracy - {}'.format(\n",
    "    precision_rf, recall_rf, accuracy_rf))"
   ]
  },
  {
   "cell_type": "code",
   "execution_count": 98,
   "metadata": {},
   "outputs": [
    {
     "data": {
      "text/plain": [
       "[(0.012853347075198047, 18198, 'great'),\n",
       " (0.0073094685226895, 28999, 'ok'),\n",
       " (0.006798120670181989, 47455, 'worst'),\n",
       " (0.006682802293517586, 3289, 'bad'),\n",
       " (0.0065845410335814225, 14513, 'excel'),\n",
       " (0.0064688646620154385, 24542, 'love'),\n",
       " (0.006359680267885049, 11833, 'dirti'),\n",
       " (0.005954300197542125, 42859, 'told'),\n",
       " (0.005269924050878327, 35534, 'room'),\n",
       " (0.005077321850261277, 39481, 'staff')]"
      ]
     },
     "execution_count": 98,
     "metadata": {},
     "output_type": "execute_result"
    }
   ],
   "source": [
    "# This finds the most important features in our model and with some manipulation we can find the tokens which are most important\n",
    "# for our model to distinguish between positive and negative reviews\n",
    "feature_importances_rf = sorted(zip(rf_holdout_model.feature_importances_, pd.DataFrame(X_train_rf_features.toarray()).columns, \n",
    "          ), reverse=True)[:10]\n",
    "\n",
    "feat_importance_rf = []\n",
    "for i in feature_importances_rf:\n",
    "    (importance, column) = i\n",
    "    x = (importance, column, tfidf_rf_model.get_feature_names()[column])\n",
    "    feat_importance_rf.append(x)\n",
    "\n",
    "feat_importance_rf"
   ]
  },
  {
   "cell_type": "markdown",
   "metadata": {},
   "source": [
    "This Random Classifier model was tested using the hyperparamters identified as being best suited by the GridSearchCV model. This metrics for the performance of this model show a high recall meaning that almost all reviews that are predicted positive are actually positive, whereas it has a lower precision which means there are some reviews which are being predicted as positive when in fact they are not positive. We can also see listed the tokens which were most important to the model in predicting whether reviews were positive or negative. Overall, the Random Forest Classifier model is fairly accurate in predicitng positive and negative reviews however, we must test other machine learning models to see if we can improve performance."
   ]
  },
  {
   "cell_type": "markdown",
   "metadata": {},
   "source": [
    "### Gradient Boosting Classifier"
   ]
  },
  {
   "cell_type": "markdown",
   "metadata": {},
   "source": [
    "The gradient boosting classifier is a different machine learning model. It is slighlty different to Random Forest Classifier as it places extra weighting to the ones it got wrong when training, it focusses heavily on observations that it doesn't quite understand yet. This is an example of the 'boosting' technique whereas, Random Forests are an example of a technique called 'bagging'. As this model relies on previous decision trees to be built, these decision trees can't be built in parallel meaning this model takes much longer to train than the Random Forest Classifier"
   ]
  },
  {
   "cell_type": "code",
   "execution_count": 99,
   "metadata": {},
   "outputs": [],
   "source": [
    "# import gradient boosting classifier model\n",
    "from sklearn.ensemble import GradientBoostingClassifier"
   ]
  },
  {
   "cell_type": "code",
   "execution_count": 100,
   "metadata": {},
   "outputs": [],
   "source": [
    "# Instantiate the model\n",
    "gb = GradientBoostingClassifier(learning_rate=0.1, n_estimators=100, max_depth=3)"
   ]
  },
  {
   "cell_type": "code",
   "execution_count": 101,
   "metadata": {},
   "outputs": [],
   "source": [
    "# Train/fit the model onto our training data, we can use the same vectorized features as with Random Forest Classifier\n",
    "gb_model = gb.fit(X_train_rf_features, y_train_rf)"
   ]
  },
  {
   "cell_type": "code",
   "execution_count": 102,
   "metadata": {},
   "outputs": [],
   "source": [
    "# Make predictions on the vectorized test data set based on the trained gradient boosting model\n",
    "predictions_gb = gb_model.predict(X_test_rf_features)"
   ]
  },
  {
   "cell_type": "code",
   "execution_count": 103,
   "metadata": {},
   "outputs": [
    {
     "name": "stdout",
     "output_type": "stream",
     "text": [
      "For the Gradient Boosting Model: Precision - 0.8630161261740209 / Recall - 0.966461599523715 / Accuracy - 0.8607127014638474\n"
     ]
    }
   ],
   "source": [
    "# Use these metrics to calculate the precision, recall and accuracy of our gb model compared to the true values\n",
    "from sklearn.metrics import precision_score, recall_score\n",
    "precision_gb =  precision_score(y_test_rf, predictions_gb)\n",
    "recall_gb = recall_score(y_test_rf, predictions_gb)\n",
    "accuracy_gb = sum(predictions_gb==y_test_rf) / len(predictions_gb)\n",
    "\n",
    "print('For the Gradient Boosting Model: Precision - {} / Recall - {} / Accuracy - {}'.format(\n",
    "    precision_gb, recall_gb, accuracy_gb))"
   ]
  },
  {
   "cell_type": "code",
   "execution_count": 107,
   "metadata": {},
   "outputs": [
    {
     "data": {
      "text/plain": [
       "[(0.12408118618771138, 18198, 'great'),\n",
       " (0.06973718482880502, 14513, 'excel'),\n",
       " (0.06367399637966374, 42859, 'told'),\n",
       " (0.05151134779118078, 24542, 'love'),\n",
       " (0.0443524851583774, 28999, 'ok'),\n",
       " (0.04236519787076247, 11833, 'dirti'),\n",
       " (0.041797390094164576, 47455, 'worst'),\n",
       " (0.03409508718486469, 3289, 'bad'),\n",
       " (0.030011679562879413, 41690, 'terribl'),\n",
       " (0.02930031576259474, 47257, 'wonder')]"
      ]
     },
     "execution_count": 107,
     "metadata": {},
     "output_type": "execute_result"
    }
   ],
   "source": [
    "# This finds the most important features in our Gradient Boosting model and with some manipulation we can find the tokens \n",
    "# which are most important for our model to distinguish between positive and negative reviews\n",
    "feature_importances_gb = sorted(zip(gb_model.feature_importances_, pd.DataFrame(X_train_rf_features.toarray()).columns), \n",
    "                                reverse=True)[:10]\n",
    "\n",
    "feat_importance_gb = []\n",
    "for i in feature_importances_gb:\n",
    "    (importance, column) = i\n",
    "    x = (importance, column, tfidf_rf_model.get_feature_names()[column])\n",
    "    feat_importance_gb.append(x)\n",
    "\n",
    "feat_importance_gb"
   ]
  },
  {
   "cell_type": "markdown",
   "metadata": {},
   "source": [
    "The gradient boosting classifier has better precision than Random Forest classifier meaning there's a higher proportion of reviews that are predicted as positive that are actually positive, this means there's a larger proportion which are correctly predicted negative as well however, this classifier has slighlty lower recall. This could be because the Gradient Boosing Classifier tends slighlty more towards observations it had got wrong so would naturally focus a bit more on getting the negative reviews right hence the higher precision and higher recall. Overall, it has a better accuracy so it is a better model for this prediction task. This Gradient Boosting classifier was also not fine tuned with Grid Search to find the best possible parameter so it is possible to improve this model further also. It is also important to note that many of the most important features for prediction were very similar to the Random Forest model."
   ]
  },
  {
   "cell_type": "markdown",
   "metadata": {},
   "source": [
    "### Recurrent Neural Network Model"
   ]
  },
  {
   "cell_type": "code",
   "execution_count": 108,
   "metadata": {},
   "outputs": [],
   "source": [
    "# import pre-processing packages\n",
    "from tensorflow.keras.preprocessing.text import Tokenizer\n",
    "from tensorflow.keras.preprocessing.sequence import pad_sequences"
   ]
  },
  {
   "cell_type": "code",
   "execution_count": 111,
   "metadata": {},
   "outputs": [],
   "source": [
    "# initialise tokenizer function\n",
    "tk = Tokenizer()"
   ]
  },
  {
   "cell_type": "code",
   "execution_count": 112,
   "metadata": {},
   "outputs": [],
   "source": [
    "# train the tokenizer to create tokens based on the training data\n",
    "tk.fit_on_texts(X_train_rf)"
   ]
  },
  {
   "cell_type": "code",
   "execution_count": 113,
   "metadata": {},
   "outputs": [],
   "source": [
    "# fit and transform the tokenizer model to both the training and test data, this converts every word in each review into an \n",
    "# integer representing that word\n",
    "X_train_sequences = tk.texts_to_sequences(X_train_rf)\n",
    "X_test_sequences = tk.texts_to_sequences(X_test_rf)"
   ]
  },
  {
   "cell_type": "code",
   "execution_count": 125,
   "metadata": {},
   "outputs": [
    {
     "name": "stdout",
     "output_type": "stream",
     "text": [
      "13728\n",
      "36\n"
     ]
    }
   ],
   "source": [
    "# Check the number of training reviews\n",
    "print(len(X_train_sequences))\n",
    "\n",
    "# Count the number of reviews which have more than x nubmer of words\n",
    "print(sum([1 for sublist in X_train_sequences if len(sublist) > 850]))"
   ]
  },
  {
   "cell_type": "code",
   "execution_count": 126,
   "metadata": {},
   "outputs": [],
   "source": [
    "# pad sequences with zeros to give 850 items within each array representing each review\n",
    "X_train_seq_pad = pad_sequences(X_train_sequences, 850)\n",
    "X_test_seq_pad = pad_sequences(X_test_sequences, 850)"
   ]
  },
  {
   "cell_type": "code",
   "execution_count": 134,
   "metadata": {},
   "outputs": [],
   "source": [
    "# import model and layers from tensorflow\n",
    "from tensorflow.keras.models import Sequential\n",
    "from tensorflow.keras.layers import Embedding, Dense, LSTM"
   ]
  },
  {
   "cell_type": "code",
   "execution_count": 135,
   "metadata": {},
   "outputs": [],
   "source": [
    "# Instantiate sequential model\n",
    "model_rnn = Sequential()"
   ]
  },
  {
   "cell_type": "code",
   "execution_count": 136,
   "metadata": {},
   "outputs": [
    {
     "name": "stdout",
     "output_type": "stream",
     "text": [
      "Model: \"sequential_1\"\n",
      "_________________________________________________________________\n",
      "Layer (type)                 Output Shape              Param #   \n",
      "=================================================================\n",
      "embedding_2 (Embedding)      (None, None, 32)          1363456   \n",
      "_________________________________________________________________\n",
      "lstm_1 (LSTM)                (None, 32)                8320      \n",
      "_________________________________________________________________\n",
      "dense (Dense)                (None, 32)                1056      \n",
      "_________________________________________________________________\n",
      "dense_1 (Dense)              (None, 1)                 33        \n",
      "=================================================================\n",
      "Total params: 1,372,865\n",
      "Trainable params: 1,372,865\n",
      "Non-trainable params: 0\n",
      "_________________________________________________________________\n"
     ]
    }
   ],
   "source": [
    "# Add the layers to our model\n",
    "model_rnn.add(Embedding(len(tk.index_word)+1, 32))\n",
    "model_rnn.add(LSTM(32))\n",
    "model_rnn.add(Dense(32, activation='relu'))\n",
    "model_rnn.add(Dense(1, activation='sigmoid'))\n",
    "model_rnn.summary()"
   ]
  },
  {
   "cell_type": "code",
   "execution_count": 137,
   "metadata": {},
   "outputs": [],
   "source": [
    "import tensorflow.keras.backend as K\n",
    "\n",
    "def recall_m(y_true, y_pred):\n",
    "        true_positives = K.sum(K.round(K.clip(y_true * y_pred, 0, 1)))\n",
    "        possible_positives = K.sum(K.round(K.clip(y_true, 0, 1)))\n",
    "        recall = true_positives / (possible_positives + K.epsilon())\n",
    "        return recall\n",
    "\n",
    "def precision_m(y_true, y_pred):\n",
    "        true_positives = K.sum(K.round(K.clip(y_true * y_pred, 0, 1)))\n",
    "        predicted_positives = K.sum(K.round(K.clip(y_pred, 0, 1)))\n",
    "        precision = true_positives / (predicted_positives + K.epsilon())\n",
    "        return precision"
   ]
  },
  {
   "cell_type": "code",
   "execution_count": 138,
   "metadata": {},
   "outputs": [],
   "source": [
    "# Compile the model, this essentially actually builds the model we are trying to create\n",
    "model_rnn.compile(optimizer='adam', loss='binary_crossentropy', metrics = ['accuracy', recall_m, precision_m])"
   ]
  },
  {
   "cell_type": "code",
   "execution_count": 139,
   "metadata": {},
   "outputs": [
    {
     "name": "stdout",
     "output_type": "stream",
     "text": [
      "Epoch 1/10\n",
      "429/429 [==============================] - 93s 210ms/step - loss: 0.4729 - accuracy: 0.7840 - recall_m: 0.9639 - precision_m: 0.7979 - val_loss: 0.2620 - val_accuracy: 0.9027 - val_recall_m: 0.9623 - val_precision_m: 0.9124\n",
      "Epoch 2/10\n",
      "429/429 [==============================] - 90s 209ms/step - loss: 0.1784 - accuracy: 0.9347 - recall_m: 0.9676 - precision_m: 0.9453 - val_loss: 0.2972 - val_accuracy: 0.8858 - val_recall_m: 0.9181 - val_precision_m: 0.9280\n",
      "Epoch 3/10\n",
      "429/429 [==============================] - 90s 209ms/step - loss: 0.1103 - accuracy: 0.9650 - recall_m: 0.9825 - precision_m: 0.9703 - val_loss: 0.3682 - val_accuracy: 0.8752 - val_recall_m: 0.8964 - val_precision_m: 0.9340ccuracy:\n",
      "Epoch 4/10\n",
      "429/429 [==============================] - 89s 208ms/step - loss: 0.0593 - accuracy: 0.9826 - recall_m: 0.9917 - precision_m: 0.9843 - val_loss: 0.4737 - val_accuracy: 0.8650 - val_recall_m: 0.9631 - val_precision_m: 0.8697\n",
      "Epoch 5/10\n",
      "429/429 [==============================] - 89s 209ms/step - loss: 0.0757 - accuracy: 0.9723 - recall_m: 0.9886 - precision_m: 0.9742 - val_loss: 0.4633 - val_accuracy: 0.8749 - val_recall_m: 0.9373 - val_precision_m: 0.8990\n",
      "Epoch 6/10\n",
      "429/429 [==============================] - 89s 208ms/step - loss: 0.0269 - accuracy: 0.9907 - recall_m: 0.9966 - precision_m: 0.9906 - val_loss: 0.5962 - val_accuracy: 0.8616 - val_recall_m: 0.8971 - val_precision_m: 0.9157\n",
      "Epoch 7/10\n",
      "429/429 [==============================] - 89s 209ms/step - loss: 0.0271 - accuracy: 0.9919 - recall_m: 0.9944 - precision_m: 0.9948 - val_loss: 0.6179 - val_accuracy: 0.8660 - val_recall_m: 0.9400 - val_precision_m: 0.8876\n",
      "Epoch 8/10\n",
      "429/429 [==============================] - 89s 209ms/step - loss: 0.0182 - accuracy: 0.9946 - recall_m: 0.9973 - precision_m: 0.9952 - val_loss: 0.6942 - val_accuracy: 0.8675 - val_recall_m: 0.9127 - val_precision_m: 0.9100\n",
      "Epoch 9/10\n",
      "429/429 [==============================] - 90s 209ms/step - loss: 0.0200 - accuracy: 0.9938 - recall_m: 0.9962 - precision_m: 0.9952 - val_loss: 0.7360 - val_accuracy: 0.8532 - val_recall_m: 0.8899 - val_precision_m: 0.9113\n",
      "Epoch 10/10\n",
      "429/429 [==============================] - 90s 209ms/step - loss: 0.0145 - accuracy: 0.9955 - recall_m: 0.9970 - precision_m: 0.9970 - val_loss: 0.7538 - val_accuracy: 0.8486 - val_recall_m: 0.8635 - val_precision_m: 0.9287\n"
     ]
    }
   ],
   "source": [
    "# Train the RNN model on the training data and evaluate each epoch on test data\n",
    "history = model_rnn.fit(X_train_seq_pad, y_train_rf, epochs=10, validation_data=(X_test_seq_pad, y_test_rf))"
   ]
  },
  {
   "cell_type": "code",
   "execution_count": 150,
   "metadata": {},
   "outputs": [
    {
     "data": {
      "image/png": "[encoded data removed]",
      "text/plain": [
       "<Figure size 864x432 with 1 Axes>"
      ]
     },
     "metadata": {
      "needs_background": "light"
     },
     "output_type": "display_data"
    },
    {
     "data": {
      "image/png": "[encoded data removed]",
      "text/plain": [
       "<Figure size 864x432 with 1 Axes>"
      ]
     },
     "metadata": {
      "needs_background": "light"
     },
     "output_type": "display_data"
    },
    {
     "data": {
      "image/png": "[encoded data removed]",
      "text/plain": [
       "<Figure size 864x432 with 1 Axes>"
      ]
     },
     "metadata": {
      "needs_background": "light"
     },
     "output_type": "display_data"
    }
   ],
   "source": [
    "# Plot the training metrics and validation metrics on a line plot\n",
    "for i in ['accuracy', 'recall_m', 'precision_m']:\n",
    "    plt.figure(figsize=(12,6))\n",
    "    epochs = range(1, len(history.history[i]) + 1)\n",
    "\n",
    "    plt.plot(epochs, history.history[i], label='Training {}'.format(i))\n",
    "    plt.plot(epochs, history.history['val_{}'.format(i)], label='Validation {}'.format(i))\n",
    "    plt.xlabel('Epoch')\n",
    "    plt.ylabel('{}'.format(i))\n",
    "    plt.ylim(0.7, 1)\n",
    "    plt.title('Training and Validation plots {}'.format(i))\n",
    "    plt.legend()\n",
    "    plt.show()\n"
   ]
  },
  {
   "cell_type": "markdown",
   "metadata": {},
   "source": [
    "Overall, the RNN model provides better predictions in terms of indetifying postive and negative reviews. The validation accuracy, precision and recall is fairly high for specific epochs within the test data. However, as can be seen from the graphs above, with greater number of epochs there seems to be a hint of overfitting to the training data, because as the number of epochs approaches 10, the training accuracy, precision and recall all tend towards 1 whereas the validation metrics slighlty reduce. The RNN model can be fine-tuned further to improve performance for example changing the number of epochs, adding dropout layers to prevent overfitting, changing the number of nodes within layers, adding new and more layers etc. "
   ]
  },
  {
   "cell_type": "markdown",
   "metadata": {},
   "source": [
    "## Final Evaluation of Machine Learning Classifiers"
   ]
  },
  {
   "cell_type": "code",
   "execution_count": 154,
   "metadata": {},
   "outputs": [
    {
     "data": {
      "text/html": [
       "<div>\n",
       "<style scoped>\n",
       "    .dataframe tbody tr th:only-of-type {\n",
       "        vertical-align: middle;\n",
       "    }\n",
       "\n",
       "    .dataframe tbody tr th {\n",
       "        vertical-align: top;\n",
       "    }\n",
       "\n",
       "    .dataframe thead th {\n",
       "        text-align: right;\n",
       "    }\n",
       "</style>\n",
       "<table border=\"1\" class=\"dataframe\">\n",
       "  <thead>\n",
       "    <tr style=\"text-align: right;\">\n",
       "      <th></th>\n",
       "      <th>Accuracy</th>\n",
       "      <th>Precision</th>\n",
       "      <th>Recall</th>\n",
       "    </tr>\n",
       "  </thead>\n",
       "  <tbody>\n",
       "    <tr>\n",
       "      <th>Random Forest Classifier</th>\n",
       "      <td>0.837055</td>\n",
       "      <td>0.823926</td>\n",
       "      <td>0.993650</td>\n",
       "    </tr>\n",
       "    <tr>\n",
       "      <th>Gradient Boosting Classifier</th>\n",
       "      <td>0.860713</td>\n",
       "      <td>0.863016</td>\n",
       "      <td>0.966462</td>\n",
       "    </tr>\n",
       "    <tr>\n",
       "      <th>Recurrent Neural Network</th>\n",
       "      <td>0.885849</td>\n",
       "      <td>0.928040</td>\n",
       "      <td>0.918090</td>\n",
       "    </tr>\n",
       "  </tbody>\n",
       "</table>\n",
       "</div>"
      ],
      "text/plain": [
       "                              Accuracy  Precision    Recall\n",
       "Random Forest Classifier      0.837055   0.823926  0.993650\n",
       "Gradient Boosting Classifier  0.860713   0.863016  0.966462\n",
       "Recurrent Neural Network      0.885849   0.928040  0.918090"
      ]
     },
     "execution_count": 154,
     "metadata": {},
     "output_type": "execute_result"
    }
   ],
   "source": [
    "# Comparison table of each of the machine learning classifiers and their metrics\n",
    "rf_metrics = [accuracy_rf, precision_rf, recall_rf]\n",
    "gb_metrics = [accuracy_gb, precision_gb, recall_gb]\n",
    "rnn_metrics = [history.history['val_accuracy'][1], history.history['val_precision_m'][1], history.history['val_recall_m'][1]]\n",
    "\n",
    "pd.DataFrame(data=[rf_metrics, gb_metrics, rnn_metrics], \n",
    "             index=['Random Forest Classifier', 'Gradient Boosting Classifier', 'Recurrent Neural Network'],\n",
    "             columns=['Accuracy', 'Precision', 'Recall'])"
   ]
  },
  {
   "cell_type": "markdown",
   "metadata": {},
   "source": [
    "The recurrent neural network model is the best model based on the metrics above. The reason for this is because for this project we want a higher precision value as we want to accurately predict negative reviews as well as positive reviews and a higher precision score allows for this. We can also fine tune the RNN much more easily to find possibly even better results without overfitting. The Gradient Boosting Classifier and Random Forest Classifier both perform relatively decently with over 83% accuracy however, the Gradient Boosting Classifier does outperform the Random Forest Classifier. The Random Forest classifier has a very high recall score and this can be misleading as the reason for this is because the classifier is predicting positive reviews in much higher proportions than the other two classifiers. We can also fin tune the Gradient Boosting Classifier to give us better performance by using a Grid Search however, the RNN model is the better model to deploy as it is much easier to fine tune and performs better generally."
   ]
  }
 ],
 "metadata": {
  "kernelspec": {
   "display_name": "Python 3",
   "language": "python",
   "name": "python3"
  },
  "language_info": {
   "codemirror_mode": {
    "name": "ipython",
    "version": 3
   },
   "file_extension": ".py",
   "mimetype": "text/x-python",
   "name": "python",
   "nbconvert_exporter": "python",
   "pygments_lexer": "ipython3",
   "version": "3.8.5"
  }
 },
 "nbformat": 4,
 "nbformat_minor": 4
}
